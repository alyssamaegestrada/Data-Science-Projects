{
  "nbformat": 4,
  "nbformat_minor": 0,
  "metadata": {
    "colab": {
      "provenance": []
    },
    "kernelspec": {
      "name": "python3",
      "display_name": "Python 3"
    },
    "language_info": {
      "name": "python"
    }
  },
  "cells": [
    {
      "cell_type": "code",
      "execution_count": null,
      "metadata": {
        "colab": {
          "base_uri": "https://localhost:8080/"
        },
        "id": "i7j2esreh3ck",
        "outputId": "6d01dd59-2d9c-430a-eec2-43e1fa0f6db0"
      },
      "outputs": [
        {
          "output_type": "execute_result",
          "data": {
            "text/plain": [
              "262144"
            ]
          },
          "metadata": {},
          "execution_count": 2
        }
      ],
      "source": [
        "#a 64 to the power of 3\n",
        "a = 64 **3\n",
        "a"
      ]
    },
    {
      "cell_type": "code",
      "source": [
        "#b 14th root of 145\n",
        "b = 145 ** 1/4\n",
        "b"
      ],
      "metadata": {
        "colab": {
          "base_uri": "https://localhost:8080/"
        },
        "id": "YGMQbGYHir0b",
        "outputId": "587f8dc2-b014-4fa0-8f66-8b75224ec39f"
      },
      "execution_count": null,
      "outputs": [
        {
          "output_type": "execute_result",
          "data": {
            "text/plain": [
              "36.25"
            ]
          },
          "metadata": {},
          "execution_count": 5
        }
      ]
    },
    {
      "cell_type": "code",
      "source": [
        "#c What is the modulo 84 by 18\n",
        "c = 84%18\n",
        "c"
      ],
      "metadata": {
        "colab": {
          "base_uri": "https://localhost:8080/"
        },
        "id": "ECf6kPk4in61",
        "outputId": "10dc1cf0-1afb-4eea-9b80-5d4d818b154a"
      },
      "execution_count": null,
      "outputs": [
        {
          "output_type": "execute_result",
          "data": {
            "text/plain": [
              "12"
            ]
          },
          "metadata": {},
          "execution_count": 6
        }
      ]
    },
    {
      "cell_type": "code",
      "source": [
        "#2 Split the String\n",
        "s = \"The fox jumps over the lazy dog!\"\n",
        "\n",
        "s.split()\n",
        "\n",
        "\n"
      ],
      "metadata": {
        "colab": {
          "base_uri": "https://localhost:8080/"
        },
        "id": "ZzsuPsWGkA8c",
        "outputId": "4e8f968e-6ba7-4fa1-dcfd-9f2e397ece02"
      },
      "execution_count": null,
      "outputs": [
        {
          "output_type": "execute_result",
          "data": {
            "text/plain": [
              "['The', 'fox', 'jumps', 'over', 'the', 'lazy', 'dog!']"
            ]
          },
          "metadata": {},
          "execution_count": 45
        }
      ]
    },
    {
      "cell_type": "code",
      "source": [
        "#3\n",
        "\n",
        "planet = \"Mars\"\n",
        "tiltaxis = 23.5\n",
        "diameter = 7926\n",
        "\n",
        "print('The planet {} has a diameter of {} and tilt of axis at {}' .format(planet,diameter,tiltaxis))"
      ],
      "metadata": {
        "colab": {
          "base_uri": "https://localhost:8080/"
        },
        "id": "5jw9L4X3kfZA",
        "outputId": "256ff0b4-98d9-44ea-d83f-f58c51015e6e"
      },
      "execution_count": null,
      "outputs": [
        {
          "output_type": "stream",
          "name": "stdout",
          "text": [
            "The planet Mars has a diameter of 7926 and tilt of axis at 23.5\n"
          ]
        }
      ]
    },
    {
      "cell_type": "code",
      "source": [
        "#4 Given the different list below, use indexing to grab the word 'target'\n",
        "\n",
        "list_1 = [1,2,3,[[4,5,6,['a','b','c','d','e','f','target',7,8,9],10,11,12]]]\n",
        "\n",
        "list_1 [3][0][3][6]"
      ],
      "metadata": {
        "colab": {
          "base_uri": "https://localhost:8080/",
          "height": 35
        },
        "id": "Ck7mOIBAmOw5",
        "outputId": "1aab0962-b17d-41f3-97b7-1034a7579f45"
      },
      "execution_count": null,
      "outputs": [
        {
          "output_type": "execute_result",
          "data": {
            "text/plain": [
              "'target'"
            ],
            "application/vnd.google.colaboratory.intrinsic+json": {
              "type": "string"
            }
          },
          "metadata": {},
          "execution_count": 19
        }
      ]
    },
    {
      "cell_type": "code",
      "source": [
        "list_2 = [1,2,3,[4,5,['a','b','c',['d','e','f','g',['h','target'],6,7]],8,9]]\n",
        "list_2 [3][2][3][4][1]"
      ],
      "metadata": {
        "colab": {
          "base_uri": "https://localhost:8080/",
          "height": 35
        },
        "id": "YhgP02Xnn86-",
        "outputId": "b1bace8a-ac9e-43a7-a833-389119f15331"
      },
      "execution_count": null,
      "outputs": [
        {
          "output_type": "execute_result",
          "data": {
            "text/plain": [
              "'target'"
            ],
            "application/vnd.google.colaboratory.intrinsic+json": {
              "type": "string"
            }
          },
          "metadata": {},
          "execution_count": 16
        }
      ]
    },
    {
      "cell_type": "code",
      "source": [
        "list_3 = [1,2,3,[4,[[5,6,7,[8,9,10,[11,12,13,14,[15,16,'target']]]],16,17]],18]\n",
        "list_3[3][1][0][3][3][4][2]"
      ],
      "metadata": {
        "colab": {
          "base_uri": "https://localhost:8080/",
          "height": 35
        },
        "id": "p2WYo23Onb6D",
        "outputId": "734efd28-93d1-4d92-8b63-e1d26b17c486"
      },
      "execution_count": null,
      "outputs": [
        {
          "output_type": "execute_result",
          "data": {
            "text/plain": [
              "'target'"
            ],
            "application/vnd.google.colaboratory.intrinsic+json": {
              "type": "string"
            }
          },
          "metadata": {},
          "execution_count": 28
        }
      ]
    },
    {
      "cell_type": "code",
      "source": [
        "#5 Given the different dictionary below, use  indexing to grab the word 'tricky'\n",
        "\n",
        "d1 = {'k1':[1,2,3],'k2':{'k3':[1,2,3,4,'tricky']}}\n",
        "\n",
        "d1['k2']['k3'][4]"
      ],
      "metadata": {
        "colab": {
          "base_uri": "https://localhost:8080/",
          "height": 35
        },
        "id": "3AwvJHvFp79a",
        "outputId": "5b8c8374-63e3-41b5-c945-2f81338c240a"
      },
      "execution_count": null,
      "outputs": [
        {
          "output_type": "execute_result",
          "data": {
            "text/plain": [
              "'tricky'"
            ],
            "application/vnd.google.colaboratory.intrinsic+json": {
              "type": "string"
            }
          },
          "metadata": {},
          "execution_count": 34
        }
      ]
    },
    {
      "cell_type": "code",
      "source": [
        "d2 = {'k1':[1,2,3,],'k2':[{'k3':[4,6,6,'tricky']}]}\n",
        "d2['k2'][0]['k3'][3]"
      ],
      "metadata": {
        "colab": {
          "base_uri": "https://localhost:8080/",
          "height": 35
        },
        "id": "891OKXATq9dZ",
        "outputId": "e4016f15-5a9f-4117-c325-afa8215f1040"
      },
      "execution_count": null,
      "outputs": [
        {
          "output_type": "execute_result",
          "data": {
            "text/plain": [
              "'tricky'"
            ],
            "application/vnd.google.colaboratory.intrinsic+json": {
              "type": "string"
            }
          },
          "metadata": {},
          "execution_count": 37
        }
      ]
    },
    {
      "cell_type": "code",
      "source": [
        "d3 = {'k1':[1,2,3,{'Hello':['oh','man','this',{'is':[1,2,3,4,5,6,7,8,['tricky']]}]}]}\n",
        "d3['k1'][3]['Hello'][3]['is'][8]"
      ],
      "metadata": {
        "colab": {
          "base_uri": "https://localhost:8080/"
        },
        "id": "exZuQzEfrQWm",
        "outputId": "1eeeaabf-ffa5-46b4-9dbc-70bea7ed278d"
      },
      "execution_count": null,
      "outputs": [
        {
          "output_type": "execute_result",
          "data": {
            "text/plain": [
              "['tricky']"
            ]
          },
          "metadata": {},
          "execution_count": 50
        }
      ]
    },
    {
      "cell_type": "code",
      "source": [
        "#6 Given the string below grab the following words\n",
        "\n",
        "st = \"Data science is the study of data to extract meaningful insights for business\"\n",
        "\n",
        "#a. \"Data\"\n",
        "\n",
        "\n",
        "st[0:5]\n"
      ],
      "metadata": {
        "colab": {
          "base_uri": "https://localhost:8080/",
          "height": 35
        },
        "id": "gk0qZ2OUr6RT",
        "outputId": "1284cbc7-e587-44ea-e7f9-606fd5a16eca"
      },
      "execution_count": null,
      "outputs": [
        {
          "output_type": "execute_result",
          "data": {
            "text/plain": [
              "'study '"
            ],
            "application/vnd.google.colaboratory.intrinsic+json": {
              "type": "string"
            }
          },
          "metadata": {},
          "execution_count": 62
        }
      ]
    },
    {
      "cell_type": "code",
      "source": [
        "#b. \"study\"\n",
        "st[20:26]"
      ],
      "metadata": {
        "colab": {
          "base_uri": "https://localhost:8080/",
          "height": 35
        },
        "id": "i9i_x2Lfzt3b",
        "outputId": "98eee79e-8e81-4cb7-b46a-ae0b9e71a2e7"
      },
      "execution_count": null,
      "outputs": [
        {
          "output_type": "execute_result",
          "data": {
            "text/plain": [
              "'study '"
            ],
            "application/vnd.google.colaboratory.intrinsic+json": {
              "type": "string"
            }
          },
          "metadata": {},
          "execution_count": 64
        }
      ]
    },
    {
      "cell_type": "code",
      "source": [
        "#c. \"extract meaningful\"\n",
        "st[37:56]"
      ],
      "metadata": {
        "colab": {
          "base_uri": "https://localhost:8080/",
          "height": 35
        },
        "id": "B4PRRgcDz9ju",
        "outputId": "6cb3c9c0-90c7-47b7-bab4-a41a2e385e1d"
      },
      "execution_count": null,
      "outputs": [
        {
          "output_type": "execute_result",
          "data": {
            "text/plain": [
              "'extract meaningful '"
            ],
            "application/vnd.google.colaboratory.intrinsic+json": {
              "type": "string"
            }
          },
          "metadata": {},
          "execution_count": 67
        }
      ]
    },
    {
      "cell_type": "code",
      "source": [
        "#d. \"insights\"\n",
        "st[56:65]"
      ],
      "metadata": {
        "colab": {
          "base_uri": "https://localhost:8080/",
          "height": 35
        },
        "id": "n5gCB4uj0OS5",
        "outputId": "6ce8fc4c-8dd7-4afc-956c-ca3bc5ee1776"
      },
      "execution_count": null,
      "outputs": [
        {
          "output_type": "execute_result",
          "data": {
            "text/plain": [
              "'insights '"
            ],
            "application/vnd.google.colaboratory.intrinsic+json": {
              "type": "string"
            }
          },
          "metadata": {},
          "execution_count": 70
        }
      ]
    },
    {
      "cell_type": "code",
      "source": [
        "#e. \"business\"\n",
        "st[69:]"
      ],
      "metadata": {
        "colab": {
          "base_uri": "https://localhost:8080/",
          "height": 35
        },
        "id": "rQkOkH5U0ZOO",
        "outputId": "f9af5cba-8c76-4869-cfa1-bfa2420bda40"
      },
      "execution_count": null,
      "outputs": [
        {
          "output_type": "execute_result",
          "data": {
            "text/plain": [
              "'business'"
            ],
            "application/vnd.google.colaboratory.intrinsic+json": {
              "type": "string"
            }
          },
          "metadata": {},
          "execution_count": 72
        }
      ]
    },
    {
      "cell_type": "code",
      "source": [
        "#7 Create Function that grabs the country code and operator number signature.\n",
        "\n",
        "num= \"+63-998-900-1044\"\n",
        "\n",
        "def extract (num):\n",
        "  x=('{}{}'.format(num.split('-')[0],num.split('-')[1]))\n",
        "  return (x)\n",
        "extract (\"+63-998-900-1044\")"
      ],
      "metadata": {
        "colab": {
          "base_uri": "https://localhost:8080/",
          "height": 35
        },
        "id": "oX1mg8eDucVG",
        "outputId": "90da7c65-0b4c-4c1b-9e10-202a15aeb588"
      },
      "execution_count": null,
      "outputs": [
        {
          "output_type": "execute_result",
          "data": {
            "text/plain": [
              "'+63998'"
            ],
            "application/vnd.google.colaboratory.intrinsic+json": {
              "type": "string"
            }
          },
          "metadata": {},
          "execution_count": 77
        }
      ]
    },
    {
      "cell_type": "code",
      "source": [],
      "metadata": {
        "id": "UkwBemQP0YBa"
      },
      "execution_count": null,
      "outputs": []
    },
    {
      "cell_type": "code",
      "source": [
        "#9 Create a function that counts the number of time a \"life\" occurs in a string. Ignore edge cases.\n",
        "\n",
        "lst_life = ['bat cat life hey life dog life job life goat life']\n",
        "lst_life[0]\n",
        "\n",
        "\n",
        "\n",
        "\n"
      ],
      "metadata": {
        "colab": {
          "base_uri": "https://localhost:8080/",
          "height": 35
        },
        "id": "GkpNFQfOu5vc",
        "outputId": "05785d5a-f5fc-48c9-b470-f6dfb4e9fd65"
      },
      "execution_count": null,
      "outputs": [
        {
          "output_type": "execute_result",
          "data": {
            "text/plain": [
              "'bat cat life hey life dog life job life goat life'"
            ],
            "application/vnd.google.colaboratory.intrinsic+json": {
              "type": "string"
            }
          },
          "metadata": {},
          "execution_count": 90
        }
      ]
    },
    {
      "cell_type": "code",
      "source": [
        "x = lst_life[0].count('life')\n",
        "print(x)\n"
      ],
      "metadata": {
        "colab": {
          "base_uri": "https://localhost:8080/"
        },
        "id": "6Z_Niwhf9XC5",
        "outputId": "8a36ecfd-bd0f-4052-c732-ac143d71ae9d"
      },
      "execution_count": null,
      "outputs": [
        {
          "output_type": "stream",
          "name": "stdout",
          "text": [
            "5\n"
          ]
        }
      ]
    },
    {
      "cell_type": "code",
      "source": [
        "#10 Problem\n",
        "\n",
        "def ticket(speed,isBirthday):\n",
        "\n",
        "  if(speed<60):\n",
        "    print('No Ticket')\n",
        "  elif(speed>61 and speed<80):\n",
        "    print('Small Ticket')\n",
        "  elif(speed>81):\n",
        "    print('Big Ticket')\n",
        "\n",
        "  ticket(28,True)\n",
        "\n"
      ],
      "metadata": {
        "id": "hOiDHr41vd_j"
      },
      "execution_count": null,
      "outputs": []
    },
    {
      "cell_type": "markdown",
      "source": [],
      "metadata": {
        "id": "XXEAzvGbr3wC"
      }
    },
    {
      "cell_type": "code",
      "source": [],
      "metadata": {
        "id": "eLuz3rN8stie"
      },
      "execution_count": null,
      "outputs": []
    }
  ]
}