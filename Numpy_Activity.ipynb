{
  "nbformat": 4,
  "nbformat_minor": 0,
  "metadata": {
    "colab": {
      "provenance": []
    },
    "kernelspec": {
      "name": "python3",
      "display_name": "Python 3"
    },
    "language_info": {
      "name": "python"
    }
  },
  "cells": [
    {
      "cell_type": "markdown",
      "source": [
        "# Lab Activity"
      ],
      "metadata": {
        "id": "mDlJkhSLXRlY"
      }
    },
    {
      "cell_type": "code",
      "execution_count": null,
      "metadata": {
        "id": "1JC6Bj6lXIMi"
      },
      "outputs": [],
      "source": [
        "import numpy as np"
      ]
    },
    {
      "cell_type": "markdown",
      "source": [
        "# 1. Using Numpy create the following Matrices\n",
        "\n",
        "$ a = \\begin{bmatrix} 3 & -4 \\\\ 8 & 5\\end{bmatrix}$\n",
        "\n",
        "$ b = \\begin{bmatrix} 7 & 8 & -1\\\\ 3 & 6 & 9\\end{bmatrix}$"
      ],
      "metadata": {
        "id": "xkcjWtA9Yzb2"
      }
    },
    {
      "cell_type": "code",
      "source": [
        "import numpy as np"
      ],
      "metadata": {
        "id": "1CAjjASAetqR"
      },
      "execution_count": null,
      "outputs": []
    },
    {
      "cell_type": "code",
      "source": [
        " a = np.array([3,-4,8,5]).reshape(2,2)\n",
        " b = np.array([7,8,-1,3,6,9]).reshape(2,3)"
      ],
      "metadata": {
        "id": "SVl2-Uyiczxh"
      },
      "execution_count": null,
      "outputs": []
    },
    {
      "cell_type": "code",
      "source": [
        " a"
      ],
      "metadata": {
        "colab": {
          "base_uri": "https://localhost:8080/"
        },
        "id": "Zr1oBWs2dOs0",
        "outputId": "61b063af-45fd-45c6-c672-bbd5c0999a2a"
      },
      "execution_count": null,
      "outputs": [
        {
          "output_type": "execute_result",
          "data": {
            "text/plain": [
              "array([[ 3, -4],\n",
              "       [ 8,  5]])"
            ]
          },
          "metadata": {},
          "execution_count": 8
        }
      ]
    },
    {
      "cell_type": "code",
      "source": [
        "b"
      ],
      "metadata": {
        "colab": {
          "base_uri": "https://localhost:8080/"
        },
        "id": "wwuNAKsPfGrb",
        "outputId": "f8e9e528-6d81-4b3e-91d5-c608b16f9cef"
      },
      "execution_count": null,
      "outputs": [
        {
          "output_type": "execute_result",
          "data": {
            "text/plain": [
              "array([[ 7,  8, -1],\n",
              "       [ 3,  6,  9]])"
            ]
          },
          "metadata": {},
          "execution_count": 9
        }
      ]
    },
    {
      "cell_type": "markdown",
      "source": [
        "# 2. Using NumPy . arrange() create the following:\n"
      ],
      "metadata": {
        "id": "HFSEFFRefNu3"
      }
    },
    {
      "cell_type": "code",
      "source": [
        "a. array([2, 4, 6, 8, 10, 12, 14, 18])\n",
        "\n",
        "b. array([4, 8, 12, 16, 20, 24, 28, 32])"
      ],
      "metadata": {
        "id": "TOrtzc3Nf0qG"
      },
      "execution_count": null,
      "outputs": []
    },
    {
      "cell_type": "code",
      "source": [
        "np.arange(2,20,2)"
      ],
      "metadata": {
        "colab": {
          "base_uri": "https://localhost:8080/"
        },
        "id": "PTiK0SWVgDkm",
        "outputId": "7ccbc168-ace6-4ca9-9ced-0d991ed74afe"
      },
      "execution_count": null,
      "outputs": [
        {
          "output_type": "execute_result",
          "data": {
            "text/plain": [
              "array([ 2,  4,  6,  8, 10, 12, 14, 16, 18])"
            ]
          },
          "metadata": {},
          "execution_count": 15
        }
      ]
    },
    {
      "cell_type": "code",
      "source": [
        "np.arange(4,36,4)"
      ],
      "metadata": {
        "colab": {
          "base_uri": "https://localhost:8080/"
        },
        "id": "YKJNnCV4g7mn",
        "outputId": "8b2ae61a-b0ed-4c76-d943-c25aa6fa2dc4"
      },
      "execution_count": null,
      "outputs": [
        {
          "output_type": "execute_result",
          "data": {
            "text/plain": [
              "array([ 4,  8, 12, 16, 20, 24, 28, 32])"
            ]
          },
          "metadata": {},
          "execution_count": 16
        }
      ]
    },
    {
      "cell_type": "markdown",
      "source": [
        "# 3. Using NumPy .ones() create the Matrix below via simple multiplication\n",
        "\n",
        " $  c = \\begin{bmatrix} 5 & 5 & 5\\\\ 5 & 5 & 5  \\end{bmatrix}$"
      ],
      "metadata": {
        "id": "_hHmKAv1hIHB"
      }
    },
    {
      "cell_type": "code",
      "source": [
        "np.ones((2,3)) * 5"
      ],
      "metadata": {
        "colab": {
          "base_uri": "https://localhost:8080/"
        },
        "id": "RrvKx-pPhtVa",
        "outputId": "45c84c1e-0ad1-4f74-e6f8-c1892aa8c453"
      },
      "execution_count": null,
      "outputs": [
        {
          "output_type": "execute_result",
          "data": {
            "text/plain": [
              "array([[5., 5., 5.],\n",
              "       [5., 5., 5.]])"
            ]
          },
          "metadata": {},
          "execution_count": 17
        }
      ]
    },
    {
      "cell_type": "markdown",
      "source": [
        "# 4. Using Numpy .linspace create the array bellow:"
      ],
      "metadata": {
        "id": "CIjf6II9iI6v"
      }
    },
    {
      "cell_type": "code",
      "source": [
        "a. array([0, 2.5, 5., 7.5, 10.])\n",
        "\n",
        "b. array([2, 4, 6, 8, 10, 12, 14, 16, 18, 20])"
      ],
      "metadata": {
        "id": "-ON3uVZ0ikeZ"
      },
      "execution_count": null,
      "outputs": []
    },
    {
      "cell_type": "code",
      "source": [
        "np.linspace(0,10,5)"
      ],
      "metadata": {
        "colab": {
          "base_uri": "https://localhost:8080/"
        },
        "id": "KaUmL3HristR",
        "outputId": "07a1475e-dfa6-4b15-d3bc-33e52f8b3673"
      },
      "execution_count": null,
      "outputs": [
        {
          "output_type": "execute_result",
          "data": {
            "text/plain": [
              "array([ 0. ,  2.5,  5. ,  7.5, 10. ])"
            ]
          },
          "metadata": {},
          "execution_count": 19
        }
      ]
    },
    {
      "cell_type": "code",
      "source": [
        "np.linspace(2,20,10)"
      ],
      "metadata": {
        "colab": {
          "base_uri": "https://localhost:8080/"
        },
        "id": "b3wJi1qIi5sR",
        "outputId": "4e788b37-9af3-4ed9-8e88-6c22745302dd"
      },
      "execution_count": null,
      "outputs": [
        {
          "output_type": "execute_result",
          "data": {
            "text/plain": [
              "array([ 2.,  4.,  6.,  8., 10., 12., 14., 16., 18., 20.])"
            ]
          },
          "metadata": {},
          "execution_count": 22
        }
      ]
    },
    {
      "cell_type": "markdown",
      "source": [
        "# 5. Using Numpy .rand create 5 random numbers"
      ],
      "metadata": {
        "id": "2GTyHbeUjPnz"
      }
    },
    {
      "cell_type": "code",
      "source": [
        "np.random.rand(5)"
      ],
      "metadata": {
        "colab": {
          "base_uri": "https://localhost:8080/"
        },
        "id": "Iiy_gwrZjWJF",
        "outputId": "3beae9a5-5726-46c7-fb53-c7118f3ac05e"
      },
      "execution_count": null,
      "outputs": [
        {
          "output_type": "execute_result",
          "data": {
            "text/plain": [
              "array([0.83932496, 0.33229547, 0.71549678, 0.21830505, 0.66440213])"
            ]
          },
          "metadata": {},
          "execution_count": 23
        }
      ]
    },
    {
      "cell_type": "markdown",
      "source": [
        "# 6. Using NumPy .rand create a 3 x 3 Matrix of random numbers"
      ],
      "metadata": {
        "id": "-_jM-jIHjp61"
      }
    },
    {
      "cell_type": "code",
      "source": [
        "np.random.randn(3,3)"
      ],
      "metadata": {
        "colab": {
          "base_uri": "https://localhost:8080/"
        },
        "id": "PztD2G93j15X",
        "outputId": "12070bbb-df4b-43aa-8823-02fb36f30c20"
      },
      "execution_count": null,
      "outputs": [
        {
          "output_type": "execute_result",
          "data": {
            "text/plain": [
              "array([[-0.16379601,  0.5195404 , -0.92822136],\n",
              "       [-0.95541487, -0.18983753,  0.80912146],\n",
              "       [-0.67289486,  1.94527084,  0.12391729]])"
            ]
          },
          "metadata": {},
          "execution_count": 26
        }
      ]
    },
    {
      "cell_type": "markdown",
      "source": [
        "# 7. Create the following NumPy array and then select the following submatrices:\n",
        "\n",
        "$ d = \\begin{bmatrix} 2 & 4 & 6 & 8 & 10 & 12 & 14 & 16 \\\\ 18 & 20 & 22 & 24 & 26 & 28 & 30 & 32 \\\\ 34 & 36 & 38 & 40 & 42 & 44 & 46 & 48 \\\\ 50 & 52 & 54 & 56 & 58 & 60 & 62 & 64\\end{bmatrix}$"
      ],
      "metadata": {
        "id": "qjCjM38OkZel"
      }
    },
    {
      "cell_type": "code",
      "source": [
        "d = [[2,4,6,8,10,12,14,16],[18,20,22,24,26,28,30,32],[34,36,38,40,42,44,46,48],[50,52,54,56,58,60,62,64]]\n",
        "d"
      ],
      "metadata": {
        "colab": {
          "base_uri": "https://localhost:8080/"
        },
        "id": "Lb8fAp4Hnkis",
        "outputId": "e5ae9899-8d37-4d4f-af11-a2a656114fc4"
      },
      "execution_count": null,
      "outputs": [
        {
          "output_type": "execute_result",
          "data": {
            "text/plain": [
              "[[2, 4, 6, 8, 10, 12, 14, 16],\n",
              " [18, 20, 22, 24, 26, 28, 30, 32],\n",
              " [34, 36, 38, 40, 42, 44, 46, 48],\n",
              " [50, 52, 54, 56, 58, 60, 62, 64]]"
            ]
          },
          "metadata": {},
          "execution_count": 57
        }
      ]
    },
    {
      "cell_type": "code",
      "source": [
        "np.arange(2,66,2).reshape(4,8)"
      ],
      "metadata": {
        "colab": {
          "base_uri": "https://localhost:8080/"
        },
        "id": "_7j_SRMwm9jP",
        "outputId": "c15cb566-6e80-4099-c70e-cf4dbc6505aa"
      },
      "execution_count": null,
      "outputs": [
        {
          "output_type": "execute_result",
          "data": {
            "text/plain": [
              "array([[ 2,  4,  6,  8, 10, 12, 14, 16],\n",
              "       [18, 20, 22, 24, 26, 28, 30, 32],\n",
              "       [34, 36, 38, 40, 42, 44, 46, 48],\n",
              "       [50, 52, 54, 56, 58, 60, 62, 64]])"
            ]
          },
          "metadata": {},
          "execution_count": 31
        }
      ]
    },
    {
      "cell_type": "markdown",
      "source": [
        "From Number 7, select the following submatrices"
      ],
      "metadata": {
        "id": "PP-HXCqAnazL"
      }
    },
    {
      "cell_type": "markdown",
      "source": [
        "$ subd1 = \\begin{bmatrix} 8 & 10 & 12 & 14 & 16\\\\ 24 & 26 & 28 & 30 & 32\\\\ 40 & 42 & 44 & 46 & 48 \\end{bmatrix} $"
      ],
      "metadata": {
        "id": "DViIJlqmoa8w"
      }
    },
    {
      "cell_type": "code",
      "source": [
        "subd1 = np.arange(2,66,2).reshape(4,8)\n",
        "subd1"
      ],
      "metadata": {
        "id": "NOeQdVen3kqk"
      },
      "execution_count": null,
      "outputs": []
    },
    {
      "cell_type": "code",
      "source": [
        "subd1[0:3,3:]"
      ],
      "metadata": {
        "colab": {
          "base_uri": "https://localhost:8080/"
        },
        "id": "y69aCafz7fjn",
        "outputId": "a5608fad-3c24-4c54-84aa-0b355aae5e72"
      },
      "execution_count": null,
      "outputs": [
        {
          "output_type": "execute_result",
          "data": {
            "text/plain": [
              "array([[ 8, 10, 12, 14, 16],\n",
              "       [24, 26, 28, 30, 32],\n",
              "       [40, 42, 44, 46, 48]])"
            ]
          },
          "metadata": {},
          "execution_count": 75
        }
      ]
    },
    {
      "cell_type": "markdown",
      "source": [
        "$ subd2 = \\begin{bmatrix} 22 & 24 & 26\\\\ 38 & 40 & 42\\end{bmatrix} $\n",
        "\n"
      ],
      "metadata": {
        "id": "8z5JFbwcoX1e"
      }
    },
    {
      "cell_type": "code",
      "source": [
        "subd2 = np.arange(2,66,2).reshape(4,8)\n",
        "subd2"
      ],
      "metadata": {
        "id": "TW1msQIlp3Gv"
      },
      "execution_count": null,
      "outputs": []
    },
    {
      "cell_type": "code",
      "source": [
        "subd2[1:3,2:5]"
      ],
      "metadata": {
        "colab": {
          "base_uri": "https://localhost:8080/"
        },
        "id": "3n1c4jvMBhX9",
        "outputId": "9a22a557-c213-4751-d1a3-5da63994555f"
      },
      "execution_count": null,
      "outputs": [
        {
          "output_type": "execute_result",
          "data": {
            "text/plain": [
              "array([[22, 24, 26],\n",
              "       [38, 40, 42]])"
            ]
          },
          "metadata": {},
          "execution_count": 78
        }
      ]
    },
    {
      "cell_type": "markdown",
      "source": [
        "$ subd3 = \\begin{bmatrix} 8 \\\\ 24 \\\\ 40\\end{bmatrix} $"
      ],
      "metadata": {
        "id": "1Rp7LpOap3f_"
      }
    },
    {
      "cell_type": "code",
      "source": [
        "subd3 = np.arange(2,66,2).reshape(4,8)\n",
        "subd3"
      ],
      "metadata": {
        "id": "hj6NggHVp348"
      },
      "execution_count": null,
      "outputs": []
    },
    {
      "cell_type": "code",
      "source": [
        "subd3[0:3,3]"
      ],
      "metadata": {
        "colab": {
          "base_uri": "https://localhost:8080/"
        },
        "id": "XddiVncdB2f1",
        "outputId": "558a3f62-52a7-4390-dc59-0fe6ba0d40ff"
      },
      "execution_count": null,
      "outputs": [
        {
          "output_type": "execute_result",
          "data": {
            "text/plain": [
              "array([ 8, 24, 40])"
            ]
          },
          "metadata": {},
          "execution_count": 96
        }
      ]
    },
    {
      "cell_type": "markdown",
      "source": [
        "$ subd4 = \\begin{bmatrix} 36 & 38 & 40 & 42\\end{bmatrix} $"
      ],
      "metadata": {
        "id": "2vXCAfNGp48Q"
      }
    },
    {
      "cell_type": "code",
      "source": [
        "subd4 = np.arange(2,66,2).reshape(4,8)\n",
        "subd4"
      ],
      "metadata": {
        "id": "6RzOSmtep5k9"
      },
      "execution_count": null,
      "outputs": []
    },
    {
      "cell_type": "code",
      "source": [
        "subd4[2,1:5]"
      ],
      "metadata": {
        "colab": {
          "base_uri": "https://localhost:8080/"
        },
        "id": "cGG0HCKOCZau",
        "outputId": "44eaf20d-589a-4e04-d215-07954e19cbe1"
      },
      "execution_count": null,
      "outputs": [
        {
          "output_type": "execute_result",
          "data": {
            "text/plain": [
              "array([36, 38, 40, 42])"
            ]
          },
          "metadata": {},
          "execution_count": 85
        }
      ]
    },
    {
      "cell_type": "markdown",
      "source": [
        "$ subd5 = \\begin{bmatrix} 38 & 48 \\\\ 54 & 64 \\end{bmatrix} $"
      ],
      "metadata": {
        "id": "RUN5nannqZo8"
      }
    },
    {
      "cell_type": "code",
      "source": [
        "subd5 = np.arange(2,66,2).reshape(4,8)\n",
        "subd5"
      ],
      "metadata": {
        "id": "9ThsVX2MCnVT"
      },
      "execution_count": null,
      "outputs": []
    },
    {
      "cell_type": "code",
      "source": [
        "subd5[2:,[2,7]]"
      ],
      "metadata": {
        "colab": {
          "base_uri": "https://localhost:8080/"
        },
        "id": "b-J4V_3aCnFr",
        "outputId": "fece2fc7-f7f9-43c7-eb85-04e85c1c4fe4"
      },
      "execution_count": null,
      "outputs": [
        {
          "output_type": "execute_result",
          "data": {
            "text/plain": [
              "array([[38, 48],\n",
              "       [54, 64]])"
            ]
          },
          "metadata": {},
          "execution_count": 106
        }
      ]
    },
    {
      "cell_type": "markdown",
      "source": [
        "Matrix Operation"
      ],
      "metadata": {
        "id": "VMUyaAxHqmmJ"
      }
    },
    {
      "cell_type": "markdown",
      "source": [
        "Add and Subtract the two  Matrices"
      ],
      "metadata": {
        "id": "V698UkU8uCqa"
      }
    },
    {
      "cell_type": "markdown",
      "source": [
        "$ e = \\begin{bmatrix} 5 & -1\\\\ 3 & -4 \\\\ 8 & 5\\end{bmatrix} $\n",
        "\n",
        "$ f = \\begin{bmatrix} 2 & 4\\\\ -4 & 8 \\\\ 3 & 5\\end{bmatrix} $\n",
        "\n"
      ],
      "metadata": {
        "id": "_g_rC5xEqrh5"
      }
    },
    {
      "cell_type": "code",
      "source": [
        "e = np.array([5,-1,3,-4,8,5]).reshape(3,2)\n",
        "f = np.array([2,4,-4,8,3,5]).reshape(3,2)"
      ],
      "metadata": {
        "id": "Uvd1qwaQqaCI"
      },
      "execution_count": null,
      "outputs": []
    },
    {
      "cell_type": "code",
      "source": [
        "e"
      ],
      "metadata": {
        "colab": {
          "base_uri": "https://localhost:8080/"
        },
        "id": "SEGecOY_tqGa",
        "outputId": "b6c2f10e-ac75-4f50-f25c-947718f05ba8"
      },
      "execution_count": null,
      "outputs": [
        {
          "output_type": "execute_result",
          "data": {
            "text/plain": [
              "array([[ 5, -1],\n",
              "       [ 3, -4],\n",
              "       [ 8,  5]])"
            ]
          },
          "metadata": {},
          "execution_count": 40
        }
      ]
    },
    {
      "cell_type": "code",
      "source": [
        "f"
      ],
      "metadata": {
        "colab": {
          "base_uri": "https://localhost:8080/"
        },
        "id": "FVjhHGe-tohC",
        "outputId": "e12bc03f-322e-4848-beec-eacd412ca7d6"
      },
      "execution_count": null,
      "outputs": [
        {
          "output_type": "execute_result",
          "data": {
            "text/plain": [
              "array([[ 2,  4],\n",
              "       [-4,  8],\n",
              "       [ 3,  5]])"
            ]
          },
          "metadata": {},
          "execution_count": 41
        }
      ]
    },
    {
      "cell_type": "code",
      "source": [
        "np.add(e,f)"
      ],
      "metadata": {
        "colab": {
          "base_uri": "https://localhost:8080/"
        },
        "id": "mpDRh3i2t7dF",
        "outputId": "7ab00b1f-eb11-4a07-aa16-6cd1e5112e8f"
      },
      "execution_count": null,
      "outputs": [
        {
          "output_type": "execute_result",
          "data": {
            "text/plain": [
              "array([[ 7,  3],\n",
              "       [-1,  4],\n",
              "       [11, 10]])"
            ]
          },
          "metadata": {},
          "execution_count": 42
        }
      ]
    },
    {
      "cell_type": "code",
      "source": [
        "np.subtract(e,f)"
      ],
      "metadata": {
        "colab": {
          "base_uri": "https://localhost:8080/"
        },
        "id": "uicFNcoUuM-W",
        "outputId": "1b9cfb55-dcca-495c-d92c-765c05fba3b0"
      },
      "execution_count": null,
      "outputs": [
        {
          "output_type": "execute_result",
          "data": {
            "text/plain": [
              "array([[  3,  -5],\n",
              "       [  7, -12],\n",
              "       [  5,   0]])"
            ]
          },
          "metadata": {},
          "execution_count": 43
        }
      ]
    },
    {
      "cell_type": "markdown",
      "source": [
        "Multiply the matrix to scalar value"
      ],
      "metadata": {
        "id": "O7JTM2rDrO4-"
      }
    },
    {
      "cell_type": "markdown",
      "source": [
        "$ e = 4 \\begin{bmatrix} 2 & 4 & 6\\\\ 1 & 2 & 3 \\\\ 5 & 4 & 3\\end{bmatrix} $"
      ],
      "metadata": {
        "id": "TtFH_EQ8rYWs"
      }
    },
    {
      "cell_type": "code",
      "source": [
        "e = np.array([2,4,6,1,2,3,5,4,4]).reshape(3,3)"
      ],
      "metadata": {
        "id": "Q2fVfrF4rljc"
      },
      "execution_count": null,
      "outputs": []
    },
    {
      "cell_type": "code",
      "source": [
        "np.multiply(4,e)"
      ],
      "metadata": {
        "colab": {
          "base_uri": "https://localhost:8080/"
        },
        "id": "1nZp6_GprmsQ",
        "outputId": "b2b851ab-7ddd-4dd6-9a07-4d833308dcd8"
      },
      "execution_count": null,
      "outputs": [
        {
          "output_type": "execute_result",
          "data": {
            "text/plain": [
              "array([[ 8, 16, 24],\n",
              "       [ 4,  8, 12],\n",
              "       [20, 16, 16]])"
            ]
          },
          "metadata": {},
          "execution_count": 45
        }
      ]
    },
    {
      "cell_type": "markdown",
      "source": [
        "Multiply the following Matrices"
      ],
      "metadata": {
        "id": "JC6f6TuJrpLp"
      }
    },
    {
      "cell_type": "markdown",
      "source": [
        "$ e = \\begin{bmatrix} 3 & -2 & 8\\\\ 5 & 3 & 2 \\\\ 4 & -2 & 4\\end{bmatrix} $\n",
        "\n",
        "$ f = \\begin{bmatrix} 1 & 4 \\\\ 1 & 2 \\\\ -1 & 3\\end{bmatrix} $"
      ],
      "metadata": {
        "id": "bRjujGiurtqp"
      }
    },
    {
      "cell_type": "code",
      "source": [
        "e = np.array([3,-2,8,5,3,2,4,-2,4]).reshape(3,3)\n",
        "f = np.array([1,4,1,2,-1,3]).reshape(3,2)"
      ],
      "metadata": {
        "id": "syN4_ovasOSf"
      },
      "execution_count": null,
      "outputs": []
    },
    {
      "cell_type": "code",
      "source": [
        "np.dot(e,f)"
      ],
      "metadata": {
        "colab": {
          "base_uri": "https://localhost:8080/"
        },
        "id": "UbXxprRcsOou",
        "outputId": "709b816f-f3e5-4e9e-f725-8fa61c75506e"
      },
      "execution_count": null,
      "outputs": [
        {
          "output_type": "execute_result",
          "data": {
            "text/plain": [
              "array([[-7, 32],\n",
              "       [ 6, 32],\n",
              "       [-2, 24]])"
            ]
          },
          "metadata": {},
          "execution_count": 47
        }
      ]
    },
    {
      "cell_type": "markdown",
      "source": [
        "Find the Transpose of the Matrix\n",
        "\n",
        "$ g = \\begin{bmatrix} 2 & 4\\\\ 2 & 2 \\\\ 4 & 5\\end{bmatrix} $"
      ],
      "metadata": {
        "id": "JdD9mLz71pQx"
      }
    },
    {
      "cell_type": "code",
      "source": [
        "g = np.array([2,4,2,2,4,5]).reshape(3,2)"
      ],
      "metadata": {
        "id": "HzZgEL-F4pxB"
      },
      "execution_count": null,
      "outputs": []
    },
    {
      "cell_type": "code",
      "source": [
        "np.transpose(g)"
      ],
      "metadata": {
        "colab": {
          "base_uri": "https://localhost:8080/"
        },
        "id": "heJq-2L418YR",
        "outputId": "c80c9b82-dee8-4e1b-9259-caeb64e1776a"
      },
      "execution_count": null,
      "outputs": [
        {
          "output_type": "execute_result",
          "data": {
            "text/plain": [
              "array([[2, 2, 4],\n",
              "       [4, 2, 5]])"
            ]
          },
          "metadata": {},
          "execution_count": 59
        }
      ]
    },
    {
      "cell_type": "markdown",
      "source": [
        "Find the determinant of the Matrix"
      ],
      "metadata": {
        "id": "hLFrbklHsQDl"
      }
    },
    {
      "cell_type": "markdown",
      "source": [
        "$ h = \\begin{bmatrix} 1 & -3 & 4\\\\ 1 & -4 & 1 \\\\ -2 & -3 & 5\\end{bmatrix} $"
      ],
      "metadata": {
        "id": "QpPfkIKmsU8K"
      }
    },
    {
      "cell_type": "code",
      "source": [
        "h = np.array([1,-3,4,1,-4,1,-2,-3,5]).reshape(3,3)"
      ],
      "metadata": {
        "id": "TjSSjOGIshjS"
      },
      "execution_count": null,
      "outputs": []
    },
    {
      "cell_type": "code",
      "source": [
        "np.linalg.det(h)"
      ],
      "metadata": {
        "colab": {
          "base_uri": "https://localhost:8080/"
        },
        "id": "CiIMe5ipsh3h",
        "outputId": "cd09a8b8-d304-4857-f10d-741b9a3144cc"
      },
      "execution_count": null,
      "outputs": [
        {
          "output_type": "execute_result",
          "data": {
            "text/plain": [
              "-40.000000000000014"
            ]
          },
          "metadata": {},
          "execution_count": 51
        }
      ]
    },
    {
      "cell_type": "markdown",
      "source": [
        "Find the Inverse of the Matrix"
      ],
      "metadata": {
        "id": "ycIvwY0psiTL"
      }
    },
    {
      "cell_type": "markdown",
      "source": [
        "$ i = \\begin{bmatrix} 7 & 2 & 1\\\\ 0 & 3 & -1 \\\\ -3 & 4 & -2\\end{bmatrix} $"
      ],
      "metadata": {
        "id": "CxorQw6esobb"
      }
    },
    {
      "cell_type": "code",
      "source": [
        "i = np.array([7,2,1,0,3,-1,-3,4,-2]).reshape(3,3)"
      ],
      "metadata": {
        "id": "9MWfL69kszg3"
      },
      "execution_count": null,
      "outputs": []
    },
    {
      "cell_type": "code",
      "source": [
        "np.linalg.inv(i)"
      ],
      "metadata": {
        "colab": {
          "base_uri": "https://localhost:8080/"
        },
        "id": "7cP_c08zszr5",
        "outputId": "3fa78eef-b8f2-44da-a277-937ef42c3341"
      },
      "execution_count": null,
      "outputs": [
        {
          "output_type": "execute_result",
          "data": {
            "text/plain": [
              "array([[ -2.,   8.,  -5.],\n",
              "       [  3., -11.,   7.],\n",
              "       [  9., -34.,  21.]])"
            ]
          },
          "metadata": {},
          "execution_count": 52
        }
      ]
    },
    {
      "cell_type": "markdown",
      "source": [
        "Solve the value 0f x: $ e^{2x} = 32 $"
      ],
      "metadata": {
        "id": "vTDmT-bCs0Gs"
      }
    },
    {
      "cell_type": "code",
      "source": [
        "x = np.log(32)/2"
      ],
      "metadata": {
        "id": "H0Gx3E1-tBnk"
      },
      "execution_count": null,
      "outputs": []
    },
    {
      "cell_type": "code",
      "source": [
        "x"
      ],
      "metadata": {
        "colab": {
          "base_uri": "https://localhost:8080/"
        },
        "id": "PcS8LFolzQpd",
        "outputId": "1f6777a2-9195-4893-d775-284187df4da4"
      },
      "execution_count": null,
      "outputs": [
        {
          "output_type": "execute_result",
          "data": {
            "text/plain": [
              "1.7328679513998633"
            ]
          },
          "metadata": {},
          "execution_count": 55
        }
      ]
    }
  ]
}